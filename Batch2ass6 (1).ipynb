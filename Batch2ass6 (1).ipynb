{
 "cells": [
  {
   "cell_type": "code",
   "execution_count": 12,
   "metadata": {},
   "outputs": [
    {
     "name": "stdout",
     "output_type": "stream",
     "text": [
      "6\n",
      "13\n",
      "google\n"
     ]
    }
   ],
   "source": [
    "#Solution 1\n",
    "\n",
    "email1='abc123@google.com'\n",
    "s1=email1.find('@')\n",
    "print(s1)\n",
    "s2=email1.find('.')\n",
    "print(s2)\n",
    "print(email1[s1+1:s2])"
   ]
  },
  {
   "cell_type": "code",
   "execution_count": 20,
   "metadata": {},
   "outputs": [
    {
     "name": "stdout",
     "output_type": "stream",
     "text": [
      "hello,hi,sidd,abha,khushi\n",
      "abha,hello,hi,khushi,sidd\n"
     ]
    }
   ],
   "source": [
    "#solution 2\n",
    "#str=input()#'hello','how','are','you'\n",
    "items=[x for x in input().split(',')]\n",
    "items.sort()\n",
    "print(','.join(items))"
   ]
  },
  {
   "cell_type": "code",
   "execution_count": 2,
   "metadata": {},
   "outputs": [
    {
     "name": "stdout",
     "output_type": "stream",
     "text": [
      "{'enrique', 'Charlie', 'alan', 'edward', 'Shawn', 'adam'}\n",
      "6\n"
     ]
    }
   ],
   "source": [
    "# solution 3\n",
    "## Python Sets\n",
    "#A set is a collection which is unordered and unindexed. \n",
    "#In Python, sets are written with curly brackets. sets are defined by the values separated by commas inside braces{}.\n",
    "# {set} K = {10, 20, 30, 40}\n",
    "\n",
    "musketeers = {\"Charlie\", \"Shawn\", \"adam\", \"alan\", \"enrique\", \"edward\"}\n",
    "print(musketeers)\n",
    "\n",
    "#NOTE: Items in sets are unodered.So you cannot be sure in which order the items will appear.\n",
    "\n",
    "print(len(musketeers)) #the len() method is used to find the length of the set. it's output will always be integer.\n",
    "\n"
   ]
  },
  {
   "cell_type": "code",
   "execution_count": 3,
   "metadata": {},
   "outputs": [
    {
     "name": "stdout",
     "output_type": "stream",
     "text": [
      "4\n",
      "{'panda', 'Teddy', 'Panda', 'teddy'}\n"
     ]
    }
   ],
   "source": [
    "ly = {\"Panda\", \"Teddy\", \"panda\", \"Teddy\", \"teddy\", \"panda\", \"Panda\"}\n",
    "print(len(ly))\n",
    "print(ly)\n",
    "\n",
    "#NOTE: Sets stores only unique values."
   ]
  },
  {
   "cell_type": "code",
   "execution_count": 9,
   "metadata": {},
   "outputs": [
    {
     "name": "stdout",
     "output_type": "stream",
     "text": [
      "True\n",
      "False\n",
      "enrique\n",
      "Charlie\n",
      "alan\n",
      "edward\n",
      "Shawn\n",
      "adam\n"
     ]
    }
   ],
   "source": [
    "#Accese the items\n",
    "#Sets are unodered. You cannot access items in a set by referring to an index or a key.\n",
    "#But you can loop through the set items using a for loop. \n",
    "#or ask if a specified value is present in a set, by using the in keyword.\n",
    "\n",
    "musketeers = {\"Charlie\", \"Shawn\", \"adam\", \"alan\", \"enrique\", \"edward\"}\n",
    "print( \"alan\" in musketeers)\n",
    "print( \"pixie\" in musketeers) #Not present in set this will give false output\n",
    "\n",
    "for y in musketeers:\n",
    " print(y)\n"
   ]
  },
  {
   "cell_type": "code",
   "execution_count": 52,
   "metadata": {},
   "outputs": [
    {
     "name": "stdout",
     "output_type": "stream",
     "text": [
      "_______USING add() method______\n",
      "{'enrique', 'Charlie', 'alan', 'justin', 'edward', 'Shawn', 'adam'}\n",
      "________USING update() method______\n",
      "{'cardiB', 'enrique', 'elvis', 'willim', 'Charlie', 'alan', 'justin', 'edward', 'Shawn', 'adam'}\n"
     ]
    }
   ],
   "source": [
    "#changing the items of sets\n",
    "#Once set is created you cannot change it's item but you can add items.\n",
    "#add and update are the two built in functions used in sets.\n",
    "#add() method is used to add one item to a list.\n",
    "#update() method is used to add more than one items to a list.\n",
    "\n",
    "musketeers = {\"Charlie\", \"Shawn\", \"adam\", \"alan\", \"enrique\", \"edward\"}\n",
    "print(\"_______USING add() method______\")\n",
    "\n",
    "musketeers.add(\"justin\")\n",
    "print(musketeers)\n",
    "\n",
    "print(\"________USING update() method______\")\n",
    "\n",
    "musketeers.update([\"elvis\", \"willim\", \"cardiB\"]) #while using the update() method don't forget to put square brackets like a list.\n",
    "print(musketeers)\n",
    "\n"
   ]
  },
  {
   "cell_type": "code",
   "execution_count": 29,
   "metadata": {},
   "outputs": [
    {
     "name": "stdout",
     "output_type": "stream",
     "text": [
      "{'enrique', 'willim', 'Charlie', 'alan', 'justin', 'edward', 'Shawn', 'adam'}\n",
      "{'enrique', 'willim', 'Charlie', 'justin', 'edward', 'Shawn', 'adam'}\n"
     ]
    }
   ],
   "source": [
    "#There are different ways to delete or remove items from a list.\n",
    "#You can use # different methods remove(), discard(), pop().\n",
    "\n",
    "#remove() and discard() methods are bit similar, does a same work.\n",
    "#The only difference between above two are that if the item to remove does not exist, remove() will raise an error.\n",
    "# But unlike remove() if the item to remove does not exist, discard() will NOT raise an error. \n",
    "\n",
    "#remove() method\n",
    "\n",
    "print(musketeers)\n",
    "musketeers.remove(\"alan\")\n",
    "print(musketeers)\n"
   ]
  },
  {
   "cell_type": "code",
   "execution_count": 33,
   "metadata": {},
   "outputs": [
    {
     "name": "stdout",
     "output_type": "stream",
     "text": [
      "{'enrique', 'willim', 'Charlie', 'edward', 'Shawn', 'adam'}\n",
      "{'enrique', 'willim', 'Charlie', 'edward', 'Shawn'}\n",
      "{'enrique', 'willim', 'Charlie', 'edward', 'Shawn'}\n"
     ]
    }
   ],
   "source": [
    "#discard method\n",
    "\n",
    "print(musketeers)\n",
    "musketeers.discard(\"adam\")\n",
    "print(musketeers)\n",
    "\n",
    "musketeers.discard(\"sophie\") #sophie does not exist in the sets.\n",
    "print(musketeers)"
   ]
  },
  {
   "cell_type": "code",
   "execution_count": 38,
   "metadata": {},
   "outputs": [
    {
     "name": "stdout",
     "output_type": "stream",
     "text": [
      "enrique\n",
      "{'Charlie', 'alan', 'edward', 'Shawn', 'adam'}\n"
     ]
    }
   ],
   "source": [
    "#the last of removing the or deleting the item is pop() method.\n",
    "#pop() function deletes the last element of the list but as we know list are unodered \n",
    "#then it's unpredictable which elements would get deleted.\n",
    "#The return value of the pop() method is the removed item.\n",
    "\n",
    "musketeers = {\"Charlie\", \"Shawn\", \"adam\", \"alan\", \"enrique\", \"edward\"}\n",
    "x = musketeers.pop()\n",
    "print(x)\n",
    "print(musketeers)\n"
   ]
  },
  {
   "cell_type": "code",
   "execution_count": 42,
   "metadata": {},
   "outputs": [
    {
     "name": "stdout",
     "output_type": "stream",
     "text": [
      "set()\n"
     ]
    }
   ],
   "source": [
    "#clear() and del() \n",
    "#clear() is used empty the set.\n",
    "#del() is used to delete the completely.\n",
    "\n",
    "musketeers = {\"Charlie\", \"Shawn\", \"adam\", \"alan\", \"enrique\", \"edward\"}\n",
    "musketeers.clear()\n",
    "print(musketeers)"
   ]
  },
  {
   "cell_type": "code",
   "execution_count": 51,
   "metadata": {},
   "outputs": [
    {
     "name": "stdout",
     "output_type": "stream",
     "text": [
      "{'bro', 'sis', 'dude', 'guys', 'girls'}\n",
      "{'bro', 'sis', 'dude', 'guys', 'girls'}\n"
     ]
    }
   ],
   "source": [
    "#JOIN TWO or MORE SETS\n",
    "#You can use the union() method that returns a new set containing all items from both sets, \n",
    "#or the update() method that inserts all the items from one set into another.\n",
    "\n",
    "#The union() method returns a new set with all items from both sets.\n",
    "\n",
    "point = {\"bro\", \"sis\", \"dude\"}\n",
    "line = {\"guys\", \"girls\"}\n",
    "plane = point.union(line)\n",
    "print(plane)\n",
    "\n",
    "point = {\"bro\", \"sis\", \"dude\"}\n",
    "line = {\"guys\", \"girls\"}\n",
    "point.update(line)\n",
    "print(point)\n",
    "#Both union() and update() will exclude any duplicate items."
   ]
  },
  {
   "cell_type": "code",
   "execution_count": 53,
   "metadata": {},
   "outputs": [
    {
     "name": "stdout",
     "output_type": "stream",
     "text": [
      "{'enrique', 'Charlie', 'alan', 'edward', 'Shawn', 'adam'}\n"
     ]
    }
   ],
   "source": [
    "#It is also possible to use the set() constructor to make a set.\n",
    "## note the double round-brackets\n",
    "\n",
    "musketeers = set((\"Charlie\", \"Shawn\", \"adam\", \"alan\", \"enrique\", \"edward\"))\n",
    "print(musketeers)"
   ]
  },
  {
   "cell_type": "code",
   "execution_count": 1,
   "metadata": {},
   "outputs": [
    {
     "name": "stdout",
     "output_type": "stream",
     "text": [
      "3.0\n"
     ]
    }
   ],
   "source": [
    "#solution 4\n",
    "#find the missing the number\n",
    "def getMissingNo(A):\n",
    "    n = len(A)\n",
    "    total = (n + 1)*(n + 2)/2\n",
    "    sum_of_A = sum(A)\n",
    "    return total - sum_of_A\n",
    " \n",
    "# Driver program to test the above function\n",
    "A = [1, 2, 4, 5, 6]\n",
    "miss = getMissingNo(A)\n",
    "print(miss)"
   ]
  },
  {
   "cell_type": "code",
   "execution_count": 59,
   "metadata": {},
   "outputs": [
    {
     "name": "stdout",
     "output_type": "stream",
     "text": [
      "[20, 30, 30, 50, 20, 60, 34, 54, 34, 65, 50]\n",
      "The list after the removal of duplicate elements is[20, 30, 50, 60, 34, 54, 65]\n"
     ]
    }
   ],
   "source": [
    "#solution 5\n",
    "#remove duplicate elements from list\n",
    "orig = [20, 30 ,30, 50 ,20 ,60, 34, 54, 34, 65, 50]\n",
    "print(orig)\n",
    "remove = list() #remove = [] can also create list in this way.\n",
    "\n",
    "for num in orig:\n",
    "    if num not in remove:\n",
    "        remove.append(num)\n",
    "#after removal of duplicate elements\n",
    "\n",
    "print(\"The list after the removal of duplicate elements is\" + str(remove))"
   ]
  },
  {
   "cell_type": "code",
   "execution_count": null,
   "metadata": {},
   "outputs": [],
   "source": []
  }
 ],
 "metadata": {
  "kernelspec": {
   "display_name": "Python 3",
   "language": "python",
   "name": "python3"
  },
  "language_info": {
   "codemirror_mode": {
    "name": "ipython",
    "version": 3
   },
   "file_extension": ".py",
   "mimetype": "text/x-python",
   "name": "python",
   "nbconvert_exporter": "python",
   "pygments_lexer": "ipython3",
   "version": "3.7.6"
  }
 },
 "nbformat": 4,
 "nbformat_minor": 4
}
