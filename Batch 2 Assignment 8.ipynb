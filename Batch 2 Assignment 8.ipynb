{
 "cells": [
  {
   "cell_type": "code",
   "execution_count": null,
   "metadata": {},
   "outputs": [],
   "source": [
    "#Question 1"
   ]
  },
  {
   "cell_type": "code",
   "execution_count": null,
   "metadata": {},
   "outputs": [],
   "source": [
    "#Python map() Function\n",
    "\n",
    "#The map() function executes a specified function for each item in an iterable. \n",
    "#The item is sent to the function as a parameter.\n",
    "#map(function, iterables)"
   ]
  },
  {
   "cell_type": "code",
   "execution_count": 3,
   "metadata": {},
   "outputs": [
    {
     "name": "stdout",
     "output_type": "stream",
     "text": [
      "<map object at 0x00000153EDC83E08>\n",
      "[5, 6, 6]\n"
     ]
    }
   ],
   "source": [
    "#Example 1\n",
    "def myfunc(n):\n",
    "  return len(n)\n",
    "\n",
    "x = map(myfunc, ('apple', 'banana', 'cherry'))\n",
    "print(x)\n",
    "print(list(x))\n"
   ]
  },
  {
   "cell_type": "code",
   "execution_count": 5,
   "metadata": {},
   "outputs": [
    {
     "name": "stdout",
     "output_type": "stream",
     "text": [
      "['appleorange', 'bananalemon', 'cherrypineapple']\n"
     ]
    }
   ],
   "source": [
    "#Example 2\n",
    "def myfunc(a, b):\n",
    "  return a + b\n",
    "\n",
    "x = map(myfunc, ('apple', 'banana', 'cherry'), ('orange', 'lemon', 'pineapple'))\n",
    "print(list(x))"
   ]
  },
  {
   "cell_type": "markdown",
   "metadata": {},
   "source": []
  },
  {
   "cell_type": "code",
   "execution_count": null,
   "metadata": {},
   "outputs": [],
   "source": [
    "#filter() Function\n",
    "#The filter() function returns an iterator were the items are filtered\n",
    "#through a function to test if the item is accepted or not.\n",
    "#filter(function, iterable)"
   ]
  },
  {
   "cell_type": "code",
   "execution_count": 6,
   "metadata": {},
   "outputs": [
    {
     "name": "stdout",
     "output_type": "stream",
     "text": [
      "18\n",
      "24\n",
      "32\n"
     ]
    }
   ],
   "source": [
    "#Example 1\n",
    "ages = [5, 12, 17, 18, 24, 32]\n",
    "\n",
    "def myFunc(x):\n",
    "  if x < 18:\n",
    "    return False\n",
    "  else:\n",
    "    return True\n",
    "\n",
    "adults = filter(myFunc, ages)\n",
    "\n",
    "for x in adults:\n",
    "  print(x)"
   ]
  },
  {
   "cell_type": "code",
   "execution_count": null,
   "metadata": {},
   "outputs": [],
   "source": [
    "# Lambda\n",
    "#A lambda function is a small anonymous function.\n",
    "#A lambda function can take any number of arguments, but can only have one expression.\n",
    "#lambda arguments : expression"
   ]
  },
  {
   "cell_type": "code",
   "execution_count": 7,
   "metadata": {},
   "outputs": [
    {
     "name": "stdout",
     "output_type": "stream",
     "text": [
      "15\n"
     ]
    }
   ],
   "source": [
    "#example 1\n",
    "x = lambda a : a + 10\n",
    "print(x(5))"
   ]
  },
  {
   "cell_type": "code",
   "execution_count": 8,
   "metadata": {},
   "outputs": [
    {
     "name": "stdout",
     "output_type": "stream",
     "text": [
      "30\n"
     ]
    }
   ],
   "source": [
    "#example 2\n",
    "x = lambda a, b : a * b\n",
    "print(x(5, 6))\n"
   ]
  },
  {
   "cell_type": "code",
   "execution_count": 9,
   "metadata": {},
   "outputs": [
    {
     "name": "stdout",
     "output_type": "stream",
     "text": [
      "13\n"
     ]
    }
   ],
   "source": [
    "#example 3\n",
    "x = lambda a, b, c : a + b + c\n",
    "print(x(5, 6, 2))"
   ]
  },
  {
   "cell_type": "code",
   "execution_count": 10,
   "metadata": {},
   "outputs": [
    {
     "name": "stdout",
     "output_type": "stream",
     "text": [
      "22\n"
     ]
    }
   ],
   "source": [
    "#example 4\n",
    "def myfunc(n):\n",
    "  return lambda a : a * n\n",
    "\n",
    "mydoubler = myfunc(2)\n",
    "\n",
    "print(mydoubler(11))"
   ]
  },
  {
   "cell_type": "code",
   "execution_count": 11,
   "metadata": {},
   "outputs": [
    {
     "name": "stdout",
     "output_type": "stream",
     "text": [
      "22\n",
      "33\n"
     ]
    }
   ],
   "source": [
    "#example 5\n",
    "def myfunc(n):\n",
    "  return lambda a : a * n\n",
    "\n",
    "mydoubler = myfunc(2)\n",
    "mytripler = myfunc(3)\n",
    "\n",
    "print(mydoubler(11))\n",
    "print(mytripler(11))"
   ]
  },
  {
   "cell_type": "code",
   "execution_count": null,
   "metadata": {},
   "outputs": [],
   "source": [
    "#Question 2"
   ]
  },
  {
   "cell_type": "markdown",
   "metadata": {},
   "source": [
    "\n",
    "                                            Python Classes and Objects\n",
    "\n",
    "Python is an object oriented programming language.\n",
    "\n",
    "Almost everything in Python is an object, with its properties and methods.\n",
    "\n",
    "A Class is like an object constructor, or a \"blueprint\" for creating objects.\n",
    "\n",
    "Object is anything in the real world that has some unique characteristics.It has state and behavior. eg: Mouse, keyboard, chair, table, etc\n",
    "\n",
    "Class is a collection of objects. It is a logical entity that has some specific attributes and methods. eg: If you have a student class, then it should contain an attribute and method viz name, standard, age, etc\n",
    "\n",
    "Inheritance means one object acquires properties and behavior of the parent object.\n",
    "\n",
    "The new class is known as the Derived class or Child class.\n",
    "And from which inherited the properties is called as Base class or Parent class.\n",
    "\n",
    "Inheritance provides reusability of the code.\n",
    "\n",
    "Polymorphism: one object many forms.\n",
    "\n",
    "Data Abstraction/Data Hiding\n",
    "\n",
    "Data Encapsulation/ Data Binding\n",
    "\n",
    "Class definition class class_name: stmnt1 stmnt2 stmnt3\n",
    "\n",
    "In [5]:\n",
    "class abc:\n",
    "    def show(self):\n",
    "        print(\"Hello Python.\")\n",
    "\n",
    "s = abc()\n",
    "s.show()\n",
    "t = abc()\n",
    "t.show()\n",
    "Hello Python.\n",
    "Hello Python.\n",
    "self attribute\n",
    "The first argument of every class method is always a reference to the current instance of the class.\n",
    "By convention, this argument is always named 'self'.\n",
    "It is a part of Python syntax to access members of objects.\n",
    "However, self is not a reserved keyword in Python, it is just a strong convention.\n",
    "Private variables\n",
    "Private means the attributes are only available for the members of the class not outside of the class.\n",
    "A private variable can only be changed within a class method, and not outside of the class.\n",
    "In Python, private variables begin with double underscores __\n",
    "Unlike other programming languages, Python private variables are not strict, they can be accessed outside of the class.\n",
    "\n",
    "In [9]:\n",
    "\n",
    "# Program to use private variables\n",
    "class abc:\n",
    "    y=2\n",
    "    __v=4 # private var\n",
    "    def show(self):\n",
    "        print(\"Hello from class\")\n",
    "        \n",
    "\n",
    "s = abc()\n",
    "print(s.y)\n",
    "s.show()\n",
    "\n",
    "# print(s.__v) # gives error\n",
    "2\n",
    "Hello from class\n",
    "\n",
    "\n",
    "Instances as arguments\n",
    "\n",
    "The class instance variables are always prefixed with reserved word 'self' and typically initialized in a constructor method named init\n",
    "\n",
    "class xyz:\n",
    "    def __init__(self):\n",
    "        print(\"I am called.\")\n",
    "        print(\"I am ready\")\n",
    "        print(\"Lets go ahead.\")\n",
    "    def show(self):\n",
    "        print(\"You are in show.\")\n",
    "        print(\"Bye from show.\")\n",
    "s = xyz()\n",
    "\n",
    "s.show()\n",
    "I am called.\n",
    "I am ready\n",
    "Lets go ahead.\n",
    "You are in show.\n",
    "Bye from show.\n",
    "\n",
    "\n",
    "\n",
    "class xyz:\n",
    "    def __init__(self,n):\n",
    "        self.n1=n+1\n",
    "        print(n)\n",
    "        print(self.n1)\n",
    "        print(self.n1*n)\n",
    "s = xyz(4)\n",
    "4\n",
    "5\n",
    "20\n",
    "class xyz:\n",
    "    def __init__(self,n):\n",
    "        self.n=n+1\n",
    "        print(n)\n",
    "        print(self.n)\n",
    "        \n",
    "s=xyz(4)\n",
    "Instances a return values\n",
    "In Python, methods and functions can return class instances.\n",
    "\n",
    "\n",
    "# Program to use instances as return values\n",
    "class st:\n",
    "    def add(self,a,b):\n",
    "        a1=a\n",
    "        b1=b\n",
    "        print(a1,b1)\n",
    "        print(a,b)\n",
    "        a=99\n",
    "        b=88\n",
    "        print(a1,b1)\n",
    "        print(a,b)\n",
    "\n",
    "s=st()\n",
    "s.add(4,3)\n",
    "4 3\n",
    "4 3\n",
    "4 3\n",
    "99 88\n",
    "\n",
    "\n",
    "# Program to use instances as return values\n",
    "class st:\n",
    "    def add(self,a,b):\n",
    "        self.a=a\n",
    "        self.b=b\n",
    "        print(self.a,self.b)\n",
    "        print(a,b)\n",
    "        a=99\n",
    "        b=88\n",
    "        print(self.a,self.b)\n",
    "        print(a,b)\n",
    "        self.a=555\n",
    "        self.b=666\n",
    "        print(self.a,self.b)\n",
    "        print(a,b)\n",
    "\n",
    "s=st()\n",
    "s.add(4,3)\n",
    "4 3\n",
    "4 3\n",
    "4 3\n",
    "99 88\n",
    "555 666\n",
    "99 88\n",
    "\n",
    "\n",
    "# Program to use instances as return values\n",
    "class st:\n",
    "    def add(self,a,b):\n",
    "        self.a=a\n",
    "        self.b=b\n",
    "        return self.a+self.b\n",
    "\n",
    "s=st()\n",
    "s.add(4,3)\n",
    "Out[23]:\n",
    "7\n",
    "\n",
    "\n",
    "# Program to use instances as return values using __init__\n",
    "class st:\n",
    "    def __init__(self,a,b):\n",
    "        self.a=a\n",
    "        self.b=b\n",
    "\n",
    "s=st(4,3)\n",
    "print(s.a)\n",
    "print(s.b)\n",
    "\n",
    "\n",
    "# Program to use instances as return values using __init__\n",
    "class st:\n",
    "    def __init__(self,a,b):\n",
    "        self.a=a\n",
    "        self.b=b\n",
    "s=st(\"Phd\",\"CS & Engg\")\n",
    "print(\"Highest qualification: \",s.a)\n",
    "print(\"Stream: \",s.b)\n",
    "del()\n",
    "It is used when you want to destroy an instance of the class which is no longer referenced.\n",
    "\n",
    "\n",
    "# Program to delete object of a class.\n",
    "class abc:\n",
    "    def __init__(self,n): #Parameterized constructor\n",
    "        print(\"Hello \",n)\n",
    "def __del__(self):\n",
    "        print(\"Object deleted\")\n",
    "\n",
    "s1=abc(\"Darshan\")\n",
    "s2=abc(\"Python\")\n",
    "Data Encapsulation\n",
    "It is used to restrict access to methods and variables.\n",
    "This can prevent the data to be modified by accident and is know as encapsulation.\n",
    "\n",
    "\n",
    "# Program to use Data Encapsulation\n",
    "class st:\n",
    "    def __init__(self):\n",
    "        self.__show1()\n",
    "    def show(self):\n",
    "        print(\"Darshan Ingle\")\n",
    "    def __show1(self):\n",
    "        print(\"Hello \")\n",
    "v=st()\n",
    "v.show()\n",
    "v.__show1() # not accessible from object v bcz of private method\n",
    "Data Encapsulation prevents the data to be modified by accident and not intentionally.\n",
    "Data Abstraction:\n",
    "Sometimes we want that objects attributes may or may not be visible outside the class definition.\n",
    "Here, we need to name attributes with double underscore prefix and those attributes then are not directly visible to the outsiders.\n",
    "\n",
    "\n",
    "# Program to use Data Hiding\n",
    "class abc:\n",
    "    __p=0\n",
    "    def show(self):\n",
    "        self.__p=self.__p+1\n",
    "        print(self.__p)\n",
    "\n",
    "v=abc()\n",
    "v.show()\n",
    "v.show()\n",
    "v.show()\n",
    "print(v.__p) # __p is hidden for outside class so error occurs\n",
    "\n",
    "Polymorphism\n",
    "\n",
    "# Program to use Polymorphism\n",
    "def show(s):\n",
    "    print(\"s= \",s)\n",
    "\n",
    "show(11)\n",
    "show(\"Darshan\")\n",
    "show(2.546)\n",
    "show(complex(2,4))\n",
    "\n"
   ]
  }
 ],
 "metadata": {
  "kernelspec": {
   "display_name": "Python 3",
   "language": "python",
   "name": "python3"
  },
  "language_info": {
   "codemirror_mode": {
    "name": "ipython",
    "version": 3
   },
   "file_extension": ".py",
   "mimetype": "text/x-python",
   "name": "python",
   "nbconvert_exporter": "python",
   "pygments_lexer": "ipython3",
   "version": "3.7.6"
  }
 },
 "nbformat": 4,
 "nbformat_minor": 4
}
