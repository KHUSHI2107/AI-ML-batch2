{
 "cells": [
  {
   "cell_type": "code",
   "execution_count": 1,
   "metadata": {},
   "outputs": [
    {
     "name": "stdout",
     "output_type": "stream",
     "text": [
      "First complex no= (10+7j)\n",
      "Second Complex no= (5+3j)\n",
      "Substraction of two complex no= (5+4j)\n"
     ]
    }
   ],
   "source": [
    "#question 1\n",
    "complexno1=10+7j\n",
    "complexno2=5+3j\n",
    "print(\"First complex no=\",complexno1)\n",
    "print(\"Second Complex no=\",complexno2)\n",
    "print(\"Substraction of two complex no=\",complexno1-complexno2)\n"
   ]
  },
  {
   "cell_type": "code",
   "execution_count": 2,
   "metadata": {},
   "outputs": [
    {
     "name": "stdout",
     "output_type": "stream",
     "text": [
      "no= 5\n",
      "forth root of no = 1.4953487812212205\n"
     ]
    }
   ],
   "source": [
    "#question 2\n",
    "no1=5\n",
    "print(\"no=\",no1)\n",
    "print(\"forth root of no =\",no1**0.25)\n"
   ]
  },
  {
   "cell_type": "code",
   "execution_count": 3,
   "metadata": {},
   "outputs": [
    {
     "name": "stdout",
     "output_type": "stream",
     "text": [
      "Enter first no10\n",
      "Enter second no20\n",
      "Before swapping a= 10 b= 20\n",
      "after swapping a= 20 b= 10\n"
     ]
    }
   ],
   "source": [
    "#question 3\n",
    "a=int(input(\"Enter first no\"))\n",
    "b=int(input(\"Enter second no\"))\n",
    "print(\"Before swapping a=\",a,\"b=\",b)\n",
    "temp=a\n",
    "a=b\n",
    "b=temp\n",
    "print(\"after swapping a=\",a,\"b=\",b)\n"
   ]
  },
  {
   "cell_type": "code",
   "execution_count": 5,
   "metadata": {},
   "outputs": [
    {
     "name": "stdout",
     "output_type": "stream",
     "text": [
      "Enter first no10\n",
      "Enter second no20\n",
      "Before swapping a= 10 b= 20\n",
      "after swapping a= 20 b= 10\n"
     ]
    }
   ],
   "source": [
    "#question 4\n",
    "a=int(input(\"Enter first no\"))\n",
    "b=int(input(\"Enter second no\"))\n",
    "print(\"Before swapping a=\",a,\"b=\",b)\n",
    "a=a+b\n",
    "b=a-b\n",
    "a=a-b\n",
    "print(\"after swapping a=\",a,\"b=\",b)\n"
   ]
  },
  {
   "cell_type": "code",
   "execution_count": 7,
   "metadata": {},
   "outputs": [
    {
     "name": "stdout",
     "output_type": "stream",
     "text": [
      "Enter temperature in fahrenheit: 99\n",
      "99.00 Fahrenheit is: 37.22 Celsius\n",
      "99.00 Fahrenheit is: 310.72 kelvin\n"
     ]
    }
   ],
   "source": [
    "#Question 5\n",
    "fahrenheit = float(input(\"Enter temperature in fahrenheit: \"))\n",
    "celsius = (fahrenheit - 32) * 5/9\n",
    "print('%.2f Fahrenheit is: %0.2f Celsius' %(fahrenheit, celsius))\n",
    "kelvin = 273.5 + ((fahrenheit - 32.0) * (5.0/9.0))\n",
    "print('%.2f Fahrenheit is: %0.2f kelvin' %(fahrenheit, kelvin))"
   ]
  },
  {
   "cell_type": "code",
   "execution_count": 11,
   "metadata": {},
   "outputs": [
    {
     "name": "stdout",
     "output_type": "stream",
     "text": [
      "<class 'str'>\n",
      "<class 'int'>\n",
      "<class 'float'>\n",
      "<class 'complex'>\n",
      "<class 'list'>\n",
      "<class 'tuple'>\n"
     ]
    }
   ],
   "source": [
    "\"\"\"\n",
    "Text Type:\tstr\n",
    "Numeric Types:\tint, float, complex\n",
    "Sequence Types:\tlist,tuple\n",
    "\n",
    "\"\"\"\n",
    "str='hello'\n",
    "print(type(str))\n",
    "a=10\n",
    "print(type(a))\n",
    "b=10.6\n",
    "print(type(b))\n",
    "c=5+3j\n",
    "print(type(c))\n",
    "l=[1,2,'hi','python']\n",
    "print(type(l))\n",
    "t=(10,20,'hello',12.3,2+6j)\n",
    "print(type(t))\n"
   ]
  },
  {
   "cell_type": "code",
   "execution_count": null,
   "metadata": {},
   "outputs": [],
   "source": []
  }
 ],
 "metadata": {
  "kernelspec": {
   "display_name": "Python 3",
   "language": "python",
   "name": "python3"
  },
  "language_info": {
   "codemirror_mode": {
    "name": "ipython",
    "version": 3
   },
   "file_extension": ".py",
   "mimetype": "text/x-python",
   "name": "python",
   "nbconvert_exporter": "python",
   "pygments_lexer": "ipython3",
   "version": "3.7.6"
  }
 },
 "nbformat": 4,
 "nbformat_minor": 4
}
