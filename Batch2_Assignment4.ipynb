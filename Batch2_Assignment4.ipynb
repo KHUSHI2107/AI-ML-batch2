{
 "cells": [
  {
   "cell_type": "code",
   "execution_count": 4,
   "metadata": {},
   "outputs": [
    {
     "name": "stdout",
     "output_type": "stream",
     "text": [
      "Addition of two complex numbers :  (7+10j)\n",
      "Subtraction of two complex numbers :  (1-4j)\n",
      "Multiplication of two complex numbers :  (-9+37j)\n",
      "Division of two complex numbers :  (0.5689655172413794-0.32758620689655177j)\n",
      "Enter complex number in form a+bj: -8+6j\n",
      "Modulus of two complex numbers :  10.0\n"
     ]
    }
   ],
   "source": [
    "#Question 1\n",
    "from math import sqrt\n",
    "#All the operations Addition Substraction , multiplication , division , modulo are possible in python3,\n",
    "#but In Python 3 you can't  compute floor division of complex numbers anymore\n",
    "c1= 4+3j\n",
    "c2=3+7j\n",
    "\n",
    "print(\"Addition of two complex numbers : \",c1+c2)\n",
    "print(\"Subtraction of two complex numbers : \",c1-c2)\n",
    "print(\"Multiplication of two complex numbers : \",c1*c2)\n",
    "print(\"Division of two complex numbers : \",c1/c2)\n",
    "#modulus \n",
    "c3=complex(input(\"Enter complex number in form a+bj: \"))\n",
    "mod=cmath.sqrt((c3.real)**2+(c3.imag)**2)\n",
    "\n",
    "print(\"Modulus of two complex numbers : \",mod.real)\n"
   ]
  },
  {
   "cell_type": "markdown",
   "metadata": {},
   "source": [
    "range() function \n",
    "\n",
    "The range() function is used to generate a sequence of numbers over time. At its simplest, it accepts an integer and returns a range object (a type of iterable). In Python 2, the range() returns a list which is not very efficient to handle large data.\n",
    "\n",
    "\n",
    "Syntax:\n",
    "\n",
    "range([start,] stop [, step]) -> range object\n",
    "PARAMETER\tDESCRIPTION\n",
    "start\t    (optional) Starting point of the sequence. It defaults to 0.\n",
    "stop        (required)\tEndpoint of the sequence. This item will not be included in the sequence.\n",
    "step        (optional)\tStep size of the sequence. It defaults to 1.\n",
    "\n",
    "Example\n",
    "1) range(5)\n",
    "range(0, 5)\n",
    "[0,1,2,3,4]\n",
    "\n",
    "2)\n",
    "for seq in range(10):\n",
    "    print(seq)\n",
    "    \n",
    "0\n",
    "1\n",
    "2\n",
    "3\n",
    "4\n",
    "5\n",
    "6\n",
    "7\n",
    "8\n",
    "9"
   ]
  },
  {
   "cell_type": "code",
   "execution_count": 7,
   "metadata": {},
   "outputs": [
    {
     "name": "stdout",
     "output_type": "stream",
     "text": [
      "enter first no51\n",
      "enter second no21\n",
      "multiplication of both number= 1071\n"
     ]
    }
   ],
   "source": [
    "#question 3\n",
    "n1=int(input(\"enter first no\"))\n",
    "n2=int(input(\"enter second no\"))\n",
    "if (n1-n2)>25:\n",
    "    print(\"multiplication of both number=\",n1*n2)\n",
    "else:\n",
    "    print(\"multiplication of both number=\",n1/n2)\n",
    "        "
   ]
  },
  {
   "cell_type": "code",
   "execution_count": 9,
   "metadata": {},
   "outputs": [
    {
     "name": "stdout",
     "output_type": "stream",
     "text": [
      "2\n",
      "14\n",
      "34\n",
      "62\n",
      "98\n"
     ]
    }
   ],
   "source": [
    "#question 4\n",
    "for no in range(1,11):\n",
    "    if no%2==0:\n",
    "        print(no**2-2)\n"
   ]
  },
  {
   "cell_type": "code",
   "execution_count": 13,
   "metadata": {},
   "outputs": [
    {
     "name": "stdout",
     "output_type": "stream",
     "text": [
      "8\n",
      "10\n"
     ]
    }
   ],
   "source": [
    "#question 5\n",
    "for no in range(1,11):\n",
    "    if no%2==0 and no>7:\n",
    "            print(no)\n"
   ]
  },
  {
   "cell_type": "code",
   "execution_count": null,
   "metadata": {},
   "outputs": [],
   "source": []
  }
 ],
 "metadata": {
  "kernelspec": {
   "display_name": "Python 3",
   "language": "python",
   "name": "python3"
  },
  "language_info": {
   "codemirror_mode": {
    "name": "ipython",
    "version": 3
   },
   "file_extension": ".py",
   "mimetype": "text/x-python",
   "name": "python",
   "nbconvert_exporter": "python",
   "pygments_lexer": "ipython3",
   "version": "3.7.6"
  }
 },
 "nbformat": 4,
 "nbformat_minor": 4
}
